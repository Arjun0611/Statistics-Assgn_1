{
 "cells": [
  {
   "cell_type": "code",
   "execution_count": 1,
   "id": "544492d5-2425-4fc8-8b0a-2dc208ab1437",
   "metadata": {},
   "outputs": [],
   "source": [
    "#Q1. \n",
    "\n",
    "# Statistics involves the collection, analysis, interpretation, and presentation of data to extract insights and support decision-making."
   ]
  },
  {
   "cell_type": "code",
   "execution_count": 2,
   "id": "b3952628-8e1e-40a3-8e6f-0a7a4c189f18",
   "metadata": {},
   "outputs": [],
   "source": [
    "#Q2.\n",
    "\n",
    "#1. Descriptive Statistics:\n",
    "# Summarizes and describes data using measures like mean, median, mode, range, and standard deviation.\n",
    "# Example: Calculating the average of employees in a company to understand the workforce's general age distribution.\n",
    "\n",
    "#2. Inferential Statistics:\n",
    "# Draws conclusions or makes predictions about a population based on a sample of data.\n",
    "# Example: Using the test scores of a sample of students to make inferences about the average test score of all students in a school."
   ]
  },
  {
   "cell_type": "code",
   "execution_count": 4,
   "id": "ec3329f7-56a0-4391-96a8-5c8a8ab78b45",
   "metadata": {},
   "outputs": [],
   "source": [
    "#Q3.\n",
    "\n",
    "#1. Nominal Data: Categorical data with no inherent order or ranking.\n",
    "#Example: Colors (Red, Blue, Green).\n",
    "\n",
    "#2. Ordinal Data: Categorical data with a clear order or ranking.\n",
    "# Example: Educational levels (High School, Bachelor's, Master's, PhD).\n",
    "\n",
    "#3. Interval Data: Numerical data with equal intervals between values. No true zero point.\n",
    "# Example: Temperature in Celsius. The difference between 20 degrees and 30 degrees is the same as between 30 and 40, but 0 degrees doesn't mean \"no temperature.\"\n",
    "\n",
    "#4. Ratio Data: Numerical data with equal intervals and a true zero point.\n",
    "# Example: Height in centimeters. A height of 0cm means \"no height,\" and ratios (like 160cm is twice as tall as 80cm) are meaningful."
   ]
  },
  {
   "cell_type": "code",
   "execution_count": 5,
   "id": "8281798b-e0dd-46ae-988f-6c2ea5a0bcf2",
   "metadata": {},
   "outputs": [],
   "source": [
    "#Q4.\n",
    "\n",
    "#1. Grading in exam: Qualitative (Ordinal) Data\n",
    "#2. Color of mangoes: Qualitative (Nominal) Data\n",
    "#3. Height data of a class: Quantitative (Ratio) Data\n",
    "#4. Number of mangoes exported by a farm: Quantitative (Ratio) Data"
   ]
  },
  {
   "cell_type": "code",
   "execution_count": 6,
   "id": "9e4d050e-1c5f-44b8-828e-029034c0853b",
   "metadata": {},
   "outputs": [],
   "source": [
    "# Q5.\n",
    "\n",
    "# Levels of measurement categorize data based on the properties and charactersitics of the data.\n",
    "# Four levels are nominal, ordinal, interval, and ratio.\n",
    "\n",
    "#1. Nominal Data: Categorical data with no inherent order or ranking.\n",
    "#Example: Colors (Red, Blue, Green).\n",
    "\n",
    "#2. Ordinal Data: Categorical data with a clear order or ranking.\n",
    "# Example: Educational levels (High School, Bachelor's, Master's, PhD).\n",
    "\n",
    "#3. Interval Data: Numerical data with equal intervals between values. No true zero point.\n",
    "# Example: Temperature in Celsius. The difference between 20 degrees and 30 degrees is the same as between 30 and 40, but 0 degrees doesn't mean \"no temperature.\"\n",
    "\n",
    "#4. Ratio Data: Numerical data with equal intervals and a true zero point.\n",
    "# Example: Height in centimeters. A height of 0cm means \"no height,\" and ratios (like 160cm is twice as tall as 80cm) are meaningful."
   ]
  },
  {
   "cell_type": "code",
   "execution_count": 7,
   "id": "75759991-5f86-4b0e-b5c1-001dfffd49a0",
   "metadata": {},
   "outputs": [],
   "source": [
    "#Q6.\n",
    "\n",
    "# Understanding the level of measurement is crucial in data analysis as it determines the appropriate techniques, visualizations, and interpretations that can be applied to the data.\n",
    "\n",
    "# Example:\n",
    "\n",
    "# If we calculate the mean education level using numbers (i.e. 1 for High School, 2 for Bachelor's, etc.), it doesn't make sense to interpret the result. The mean of education levels isn't meaningful, as ther's no true zero or equal interval between levels.\n",
    "\n",
    "# Likewise, calculating the mean temperature makes sense. However, interpreting the mean as \"average temperature\" might be misleading, as the interval nature of the data doesn't guarantee that the difference between 20°C and 30°C is the same as between 30°C and 40°C."
   ]
  },
  {
   "cell_type": "code",
   "execution_count": 8,
   "id": "d8b5f49c-d7a0-4bc4-9fca-364b94972eaf",
   "metadata": {},
   "outputs": [],
   "source": [
    "#Q7.\n",
    "\n",
    "# Nominal Data:\n",
    "\n",
    "# No inherent order or ranking among categories.\n",
    "# Examples: Colors, Gender, Countries\n",
    "\n",
    "# Ordinal Data:\n",
    "\n",
    "# Categories have a clear order or ranking.\n",
    "# Differences between categories may not be equal.\n",
    "# Examples: Educational Levels, Socioeconomic status, Rating scales."
   ]
  },
  {
   "cell_type": "code",
   "execution_count": 9,
   "id": "68f0ab48-3b82-4117-8dd1-d601e86fdf10",
   "metadata": {},
   "outputs": [],
   "source": [
    "#Q8.\n",
    "\n",
    "# A Box Plot is often used to display data in terms of its range. It provides a visual representation of the distribution of data, including the minimum, first quartile, median, third quartile, and maximum values."
   ]
  },
  {
   "cell_type": "code",
   "execution_count": 10,
   "id": "e85d4a3d-40b5-442e-91b7-f8a8e1a66458",
   "metadata": {},
   "outputs": [],
   "source": [
    "#Q9.\n",
    "\n",
    "#Descriptive Statistics:\n",
    "\n",
    "#Summarizes and describes data.\n",
    "# Example: Calculating mean, median, and mode of test scores.\n",
    "# Use: Provides insights into the central tendency and distribution of data.\n",
    "\n",
    "\n",
    "#Inferential Statistics:\n",
    "\n",
    "# Draws conclusions or predictions from sample data.\n",
    "# Example: Using a sample of votes to predict election outcomes.\n",
    "# Use: Extends findings from a sample to a larger population."
   ]
  },
  {
   "cell_type": "code",
   "execution_count": null,
   "id": "e7bfd244-bfd4-46e5-9099-dabccd401705",
   "metadata": {},
   "outputs": [],
   "source": [
    "#Q10.\n",
    "\n",
    "# Measures of Central Tendency:\n",
    "\n",
    "#1. Mean: Average value, sensitive to outliers.\n",
    "#2. Median: Middle value, not affected by outliers.\n",
    "#3. Mode: Most common value, applicable to categorical data.\n",
    "\n",
    "# Measures of Variability:\n",
    "\n",
    "#1. Range: Max-min differen"
   ]
  }
 ],
 "metadata": {
  "kernelspec": {
   "display_name": "Python 3 (ipykernel)",
   "language": "python",
   "name": "python3"
  },
  "language_info": {
   "codemirror_mode": {
    "name": "ipython",
    "version": 3
   },
   "file_extension": ".py",
   "mimetype": "text/x-python",
   "name": "python",
   "nbconvert_exporter": "python",
   "pygments_lexer": "ipython3",
   "version": "3.10.8"
  }
 },
 "nbformat": 4,
 "nbformat_minor": 5
}
